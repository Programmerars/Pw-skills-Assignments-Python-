{
 "cells": [
  {
   "cell_type": "markdown",
   "id": "91c1fe45-d047-4f8b-9735-9997812cc1e3",
   "metadata": {},
   "source": [
    "Que 1. Create an empty list."
   ]
  },
  {
   "cell_type": "code",
   "execution_count": 1,
   "id": "a6c89b4c-72bd-41bd-9b6b-3995d1b06c6d",
   "metadata": {},
   "outputs": [],
   "source": [
    "l1=[]"
   ]
  },
  {
   "cell_type": "code",
   "execution_count": 2,
   "id": "7e477d98-b2ef-47e4-93f5-75f004e188e9",
   "metadata": {},
   "outputs": [
    {
     "data": {
      "text/plain": [
       "[]"
      ]
     },
     "execution_count": 2,
     "metadata": {},
     "output_type": "execute_result"
    }
   ],
   "source": [
    "l1"
   ]
  },
  {
   "cell_type": "markdown",
   "id": "46f92a76-1618-4538-9fd5-b508600b9fad",
   "metadata": {},
   "source": [
    "Que 2. Create a list and add an element to the end of this list."
   ]
  },
  {
   "cell_type": "code",
   "execution_count": 3,
   "id": "430edf63-1188-433f-9eae-4213aeab9159",
   "metadata": {},
   "outputs": [],
   "source": [
    "l2=[1,2,3,4,5]"
   ]
  },
  {
   "cell_type": "code",
   "execution_count": 4,
   "id": "4830230a-8f5c-46b7-b91a-28715cd938b6",
   "metadata": {},
   "outputs": [
    {
     "data": {
      "text/plain": [
       "[1, 2, 3, 4, 5]"
      ]
     },
     "execution_count": 4,
     "metadata": {},
     "output_type": "execute_result"
    }
   ],
   "source": [
    "l2"
   ]
  },
  {
   "cell_type": "code",
   "execution_count": 5,
   "id": "00c3b26d-c5e6-4927-adf1-261e47881113",
   "metadata": {},
   "outputs": [],
   "source": [
    "l2.append(6)"
   ]
  },
  {
   "cell_type": "code",
   "execution_count": 6,
   "id": "14180816-1037-4ba3-a6e0-ba7a4bbaf428",
   "metadata": {},
   "outputs": [
    {
     "data": {
      "text/plain": [
       "[1, 2, 3, 4, 5, 6]"
      ]
     },
     "execution_count": 6,
     "metadata": {},
     "output_type": "execute_result"
    }
   ],
   "source": [
    "l2"
   ]
  },
  {
   "cell_type": "markdown",
   "id": "5a3dc870-4ae2-42e9-be25-c86594eb8de3",
   "metadata": {},
   "source": [
    "Que 3. For the above created list print the last element."
   ]
  },
  {
   "cell_type": "code",
   "execution_count": 7,
   "id": "6e653657-94ff-4f4b-a2fe-0323538091dd",
   "metadata": {},
   "outputs": [
    {
     "data": {
      "text/plain": [
       "6"
      ]
     },
     "execution_count": 7,
     "metadata": {},
     "output_type": "execute_result"
    }
   ],
   "source": [
    "l2[-1]"
   ]
  },
  {
   "cell_type": "markdown",
   "id": "79b5ab51-70f2-42d8-bb04-3ef4137026bf",
   "metadata": {},
   "source": [
    "Que 4. Reverse the above created list."
   ]
  },
  {
   "cell_type": "code",
   "execution_count": 8,
   "id": "8fe0e72d-7227-40d2-a2ad-43ac3e78c9c4",
   "metadata": {},
   "outputs": [
    {
     "data": {
      "text/plain": [
       "[6, 5, 4, 3, 2, 1]"
      ]
     },
     "execution_count": 8,
     "metadata": {},
     "output_type": "execute_result"
    }
   ],
   "source": [
    "l2[::-1]"
   ]
  },
  {
   "cell_type": "markdown",
   "id": "9e36b72c-69cb-481f-ae68-a3b2076b3694",
   "metadata": {},
   "source": [
    "Que 5. Sort the above created list."
   ]
  },
  {
   "cell_type": "code",
   "execution_count": 9,
   "id": "5aa13062-9c55-4fe8-a42b-68930a4bdfab",
   "metadata": {},
   "outputs": [],
   "source": [
    "l3=[3,6,1,9,2,10,5]"
   ]
  },
  {
   "cell_type": "code",
   "execution_count": 10,
   "id": "1015b4db-f62e-4eb9-a1a3-38b75c7d2349",
   "metadata": {},
   "outputs": [
    {
     "data": {
      "text/plain": [
       "[3, 6, 1, 9, 2, 10, 5]"
      ]
     },
     "execution_count": 10,
     "metadata": {},
     "output_type": "execute_result"
    }
   ],
   "source": [
    "l3"
   ]
  },
  {
   "cell_type": "code",
   "execution_count": 11,
   "id": "4dd21153-685c-46e1-9f21-65f50ec07956",
   "metadata": {},
   "outputs": [],
   "source": [
    "l3.sort()"
   ]
  },
  {
   "cell_type": "code",
   "execution_count": 12,
   "id": "29b9500e-58b9-410f-ba15-7fad01e2bab3",
   "metadata": {},
   "outputs": [
    {
     "data": {
      "text/plain": [
       "[1, 2, 3, 5, 6, 9, 10]"
      ]
     },
     "execution_count": 12,
     "metadata": {},
     "output_type": "execute_result"
    }
   ],
   "source": [
    "l3"
   ]
  },
  {
   "cell_type": "markdown",
   "id": "bfc28fd7-c194-4a7b-b4d2-44ad49516e72",
   "metadata": {},
   "source": [
    "Que 6. Create a list of your top three favorite movies, then print the second movie title."
   ]
  },
  {
   "cell_type": "code",
   "execution_count": 13,
   "id": "283c2b33-7c2a-4265-acf0-8b649d38457c",
   "metadata": {},
   "outputs": [],
   "source": [
    "l4=[\"Veer\",\"Don\",\"Burfi\",\"Jai_ho\",\"Dil\"]"
   ]
  },
  {
   "cell_type": "code",
   "execution_count": 14,
   "id": "62b88acd-10a7-48ba-9757-9e491a33a7ec",
   "metadata": {},
   "outputs": [
    {
     "data": {
      "text/plain": [
       "['Veer', 'Don', 'Burfi', 'Jai_ho', 'Dil']"
      ]
     },
     "execution_count": 14,
     "metadata": {},
     "output_type": "execute_result"
    }
   ],
   "source": [
    "l4"
   ]
  },
  {
   "cell_type": "code",
   "execution_count": 15,
   "id": "844b48f4-2be7-4805-9a0b-8eb788937a31",
   "metadata": {},
   "outputs": [
    {
     "data": {
      "text/plain": [
       "'Don'"
      ]
     },
     "execution_count": 15,
     "metadata": {},
     "output_type": "execute_result"
    }
   ],
   "source": [
    "l4[1]"
   ]
  },
  {
   "cell_type": "markdown",
   "id": "c38be385-a90d-429f-996d-580657ff3b7d",
   "metadata": {},
   "source": [
    "Q7. Create a list of your favorite animals, then add a new animal to the list and print the updated list."
   ]
  },
  {
   "cell_type": "code",
   "execution_count": 16,
   "id": "fd682008-8180-4f52-910d-bfa80bfaef92",
   "metadata": {},
   "outputs": [],
   "source": [
    "l5=[\"Jiraffe\",\"Lion\",\"Monkey\",\"Elephant\",\"Deer\"]"
   ]
  },
  {
   "cell_type": "code",
   "execution_count": 17,
   "id": "c8c186c8-d524-47a4-91bf-6111d8a598db",
   "metadata": {},
   "outputs": [
    {
     "data": {
      "text/plain": [
       "['Jiraffe', 'Lion', 'Monkey', 'Elephant', 'Deer']"
      ]
     },
     "execution_count": 17,
     "metadata": {},
     "output_type": "execute_result"
    }
   ],
   "source": [
    "l5"
   ]
  },
  {
   "cell_type": "code",
   "execution_count": 18,
   "id": "b1e37365-eeb4-4748-8742-d4f58941ebe0",
   "metadata": {},
   "outputs": [],
   "source": [
    "l5.append(\"Got\")"
   ]
  },
  {
   "cell_type": "code",
   "execution_count": 19,
   "id": "7c5eee56-fc6c-442e-8190-b881a8961f29",
   "metadata": {},
   "outputs": [
    {
     "data": {
      "text/plain": [
       "['Jiraffe', 'Lion', 'Monkey', 'Elephant', 'Deer', 'Got']"
      ]
     },
     "execution_count": 19,
     "metadata": {},
     "output_type": "execute_result"
    }
   ],
   "source": [
    "l5"
   ]
  },
  {
   "cell_type": "markdown",
   "id": "92ab827d-c5d2-4803-b92f-80cfe623e380",
   "metadata": {},
   "source": [
    "Q8. Create a list of your favorite cities, then use the index() method to find the position of a specific city\n",
    "on the list and print it."
   ]
  },
  {
   "cell_type": "code",
   "execution_count": 20,
   "id": "562b7d90-9e9c-4341-90ac-b76ba64344b1",
   "metadata": {},
   "outputs": [],
   "source": [
    "l6=[\"Delhi\",\"Nagpur\",\"Mumbai\",\"Gujrat\",\"Hydrabad\",\"Bangluru\"]"
   ]
  },
  {
   "cell_type": "code",
   "execution_count": 21,
   "id": "d1c08dd3-36f2-44db-aeb9-20aede38ded9",
   "metadata": {},
   "outputs": [
    {
     "data": {
      "text/plain": [
       "['Delhi', 'Nagpur', 'Mumbai', 'Gujrat', 'Hydrabad', 'Bangluru']"
      ]
     },
     "execution_count": 21,
     "metadata": {},
     "output_type": "execute_result"
    }
   ],
   "source": [
    "l6"
   ]
  },
  {
   "cell_type": "code",
   "execution_count": 22,
   "id": "4f1667b4-c44e-4a70-a43c-02b937b670d8",
   "metadata": {},
   "outputs": [
    {
     "data": {
      "text/plain": [
       "1"
      ]
     },
     "execution_count": 22,
     "metadata": {},
     "output_type": "execute_result"
    }
   ],
   "source": [
    "l6.index(\"Nagpur\")"
   ]
  },
  {
   "cell_type": "code",
   "execution_count": null,
   "id": "934bf927-cfc0-4232-ba3a-c57245e13f52",
   "metadata": {},
   "outputs": [],
   "source": []
  }
 ],
 "metadata": {
  "kernelspec": {
   "display_name": "Python 3 (ipykernel)",
   "language": "python",
   "name": "python3"
  },
  "language_info": {
   "codemirror_mode": {
    "name": "ipython",
    "version": 3
   },
   "file_extension": ".py",
   "mimetype": "text/x-python",
   "name": "python",
   "nbconvert_exporter": "python",
   "pygments_lexer": "ipython3",
   "version": "3.10.8"
  }
 },
 "nbformat": 4,
 "nbformat_minor": 5
}
