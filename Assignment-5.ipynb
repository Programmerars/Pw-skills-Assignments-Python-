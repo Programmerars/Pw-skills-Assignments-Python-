{
 "cells": [
  {
   "cell_type": "markdown",
   "id": "e8900278-ad9d-427c-b61c-d5a72fb8dd0a",
   "metadata": {},
   "source": [
    "Que 1. What is the syntax for adding an element to a list in Python?"
   ]
  },
  {
   "cell_type": "markdown",
   "id": "f9c12729-592f-4b8c-afa1-acbb85bae075",
   "metadata": {},
   "source": [
    "Ans:-  \n",
    "\n",
    "Syntax:-\n",
    "\n",
    "List_Name.append(item)"
   ]
  },
  {
   "cell_type": "markdown",
   "id": "69a2c43b-5500-4d29-a07c-b0883f859f26",
   "metadata": {},
   "source": [
    "Que 2. What is the difference between remove() and pop() functions in Python?"
   ]
  },
  {
   "cell_type": "markdown",
   "id": "f85144b9-32b6-4fd5-9c9c-db8b0050e829",
   "metadata": {},
   "source": [
    "Ans:- \n",
    "remove() is used to remove the first occurrence of a specified value from a list, while pop() is used to remove an element from a list based on its index, and it also returns the removed element.\n"
   ]
  },
  {
   "cell_type": "markdown",
   "id": "f6da2741-616d-4521-bbf4-066ec6884a5d",
   "metadata": {},
   "source": [
    "Que3. Write a Python code to sort a list in descending order."
   ]
  },
  {
   "cell_type": "code",
   "execution_count": 1,
   "id": "be0a3e2f-7374-4844-9894-ee7c1be202c3",
   "metadata": {},
   "outputs": [],
   "source": [
    "l1 = [6,1,2,32,3,4,5,6,7,2,3,4,5]"
   ]
  },
  {
   "cell_type": "code",
   "execution_count": 2,
   "id": "ef8bc03e-7414-4f56-b235-69e471348fa2",
   "metadata": {},
   "outputs": [],
   "source": [
    "l1.sort(reverse=True)"
   ]
  },
  {
   "cell_type": "code",
   "execution_count": 3,
   "id": "9a112062-df18-4202-a27d-7f829424dc36",
   "metadata": {},
   "outputs": [
    {
     "data": {
      "text/plain": [
       "[32, 7, 6, 6, 5, 5, 4, 4, 3, 3, 2, 2, 1]"
      ]
     },
     "execution_count": 3,
     "metadata": {},
     "output_type": "execute_result"
    }
   ],
   "source": [
    "l1"
   ]
  },
  {
   "cell_type": "markdown",
   "id": "ebeaf3ed-b958-45b8-a717-12d8104ad6c7",
   "metadata": {},
   "source": [
    "Que 4. Write a Python code to count the number of occurrences of an element in a list."
   ]
  },
  {
   "cell_type": "code",
   "execution_count": 4,
   "id": "77cf4d4f-db02-4250-b737-b3f4a4f7a4bb",
   "metadata": {},
   "outputs": [
    {
     "name": "stdout",
     "output_type": "stream",
     "text": [
      "The element 3 occurs 4 time(s) in the list.\n"
     ]
    }
   ],
   "source": [
    "def count_occurrences(lst, element):\n",
    "    return lst.count(element)\n",
    "\n",
    "# Example usage\n",
    "my_list = [1, 2, 3, 4, 3, 5, 3, 6, 7, 3]\n",
    "element = 3\n",
    "occurrences = count_occurrences(my_list, element)\n",
    "print(f\"The element {element} occurs {occurrences} time(s) in the list.\")"
   ]
  },
  {
   "cell_type": "markdown",
   "id": "f5700dfe-abc2-4277-b018-0a2fb0e53399",
   "metadata": {},
   "source": [
    "Que 5. Write a Python code to reverse a list."
   ]
  },
  {
   "cell_type": "code",
   "execution_count": 5,
   "id": "1083ea32-f663-4a49-bc79-48b28cf55641",
   "metadata": {},
   "outputs": [],
   "source": [
    "l2 = [6,1,2,32,3,4,5,6,7,2,3,4,5]"
   ]
  },
  {
   "cell_type": "code",
   "execution_count": 6,
   "id": "b411b2cd-e5bc-4e67-a4a5-cba9b016f6e9",
   "metadata": {},
   "outputs": [],
   "source": [
    "l2.reverse()"
   ]
  },
  {
   "cell_type": "code",
   "execution_count": 7,
   "id": "1a2aca46-a2ef-4a30-8f6b-d6abdb781771",
   "metadata": {},
   "outputs": [
    {
     "data": {
      "text/plain": [
       "[5, 4, 3, 2, 7, 6, 5, 4, 3, 32, 2, 1, 6]"
      ]
     },
     "execution_count": 7,
     "metadata": {},
     "output_type": "execute_result"
    }
   ],
   "source": [
    "l2"
   ]
  },
  {
   "cell_type": "code",
   "execution_count": null,
   "id": "7e03d11e-d08e-4aab-bebf-3222967a4d89",
   "metadata": {},
   "outputs": [],
   "source": []
  }
 ],
 "metadata": {
  "kernelspec": {
   "display_name": "Python 3 (ipykernel)",
   "language": "python",
   "name": "python3"
  },
  "language_info": {
   "codemirror_mode": {
    "name": "ipython",
    "version": 3
   },
   "file_extension": ".py",
   "mimetype": "text/x-python",
   "name": "python",
   "nbconvert_exporter": "python",
   "pygments_lexer": "ipython3",
   "version": "3.10.8"
  }
 },
 "nbformat": 4,
 "nbformat_minor": 5
}
