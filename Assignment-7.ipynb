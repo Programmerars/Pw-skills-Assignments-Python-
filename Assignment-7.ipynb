{
 "cells": [
  {
   "cell_type": "markdown",
   "id": "b83ac14d-e475-4546-a711-4b5563a695a9",
   "metadata": {},
   "source": [
    "Q1. What is a set in Python?"
   ]
  },
  {
   "cell_type": "markdown",
   "id": "2e14152a-702e-4776-a972-ae9d38b162e0",
   "metadata": {},
   "source": [
    "Ans:- \n",
    "\n",
    "In Python, a set is an unordered, mutable collection of unique items. It is defined using curly braces ({}) and items are separated by commas. Sets are similar to lists and dictionaries in Python.\n",
    "\n",
    "Sets in Python are useful in scenarios where you need to store a collection of items that should only have unique elements and the order of elements doesn't matter."
   ]
  },
  {
   "cell_type": "markdown",
   "id": "99d1be00-48ee-490b-8671-b170d47c08dc",
   "metadata": {},
   "source": [
    "Q2.How do you create a set in Python?"
   ]
  },
  {
   "cell_type": "markdown",
   "id": "9bfff03d-5476-412c-b6d2-d2d3d3a9a79d",
   "metadata": {},
   "source": [
    "Ans:- \n",
    "\n",
    "In Python, you can create a set using curly braces ({}) and separating items with commas. Here are some different ways to create a set in Python:"
   ]
  },
  {
   "cell_type": "code",
   "execution_count": 1,
   "id": "c307f392-15cc-4c2e-af0b-6a3fa785018a",
   "metadata": {},
   "outputs": [],
   "source": [
    "my_set = set()"
   ]
  },
  {
   "cell_type": "code",
   "execution_count": 2,
   "id": "0370db71-8433-491a-9613-ec0d2b6c83ec",
   "metadata": {},
   "outputs": [
    {
     "data": {
      "text/plain": [
       "set()"
      ]
     },
     "execution_count": 2,
     "metadata": {},
     "output_type": "execute_result"
    }
   ],
   "source": [
    "my_set"
   ]
  },
  {
   "cell_type": "code",
   "execution_count": 3,
   "id": "4a4e12dd-b506-4b08-a734-8c605adb1816",
   "metadata": {},
   "outputs": [],
   "source": [
    "my_set = {1, 2, 3, 4, 5}"
   ]
  },
  {
   "cell_type": "code",
   "execution_count": 4,
   "id": "3f4f90ff-ed7a-4b17-978c-b8f41c22306d",
   "metadata": {},
   "outputs": [
    {
     "data": {
      "text/plain": [
       "{1, 2, 3, 4, 5}"
      ]
     },
     "execution_count": 4,
     "metadata": {},
     "output_type": "execute_result"
    }
   ],
   "source": [
    "my_set"
   ]
  },
  {
   "cell_type": "code",
   "execution_count": 5,
   "id": "44d74816-6a18-44ed-9692-b06ba792105e",
   "metadata": {},
   "outputs": [],
   "source": [
    "my_list = [1, 2, 3, 4, 5]\n",
    "my_set = set(my_list)"
   ]
  },
  {
   "cell_type": "code",
   "execution_count": 6,
   "id": "69e8679c-f9ad-4536-b393-a15c6fa0d274",
   "metadata": {},
   "outputs": [
    {
     "data": {
      "text/plain": [
       "{1, 2, 3, 4, 5}"
      ]
     },
     "execution_count": 6,
     "metadata": {},
     "output_type": "execute_result"
    }
   ],
   "source": [
    "my_set"
   ]
  },
  {
   "cell_type": "markdown",
   "id": "34b3e8b3-9962-4e65-a173-350c1c9e20fa",
   "metadata": {},
   "source": [
    "Que.3 How do you add elements to a set in Python?"
   ]
  },
  {
   "cell_type": "code",
   "execution_count": 7,
   "id": "a8d82af5-53d2-4bb7-8fda-072d9a5eb24b",
   "metadata": {},
   "outputs": [],
   "source": [
    "my_set = {1, 2, 3, 4, 5}"
   ]
  },
  {
   "cell_type": "code",
   "execution_count": 8,
   "id": "7835038a-1d05-4afe-b7b4-2dc090280adf",
   "metadata": {},
   "outputs": [
    {
     "data": {
      "text/plain": [
       "{1, 2, 3, 4, 5}"
      ]
     },
     "execution_count": 8,
     "metadata": {},
     "output_type": "execute_result"
    }
   ],
   "source": [
    "my_set"
   ]
  },
  {
   "cell_type": "code",
   "execution_count": 9,
   "id": "0be78576-048b-4db0-beb5-03d7aefdff54",
   "metadata": {},
   "outputs": [],
   "source": [
    "my_set.add(10)"
   ]
  },
  {
   "cell_type": "code",
   "execution_count": 10,
   "id": "0df0c1d0-6d1d-4891-b323-77f34d469d83",
   "metadata": {},
   "outputs": [
    {
     "data": {
      "text/plain": [
       "{1, 2, 3, 4, 5, 10}"
      ]
     },
     "execution_count": 10,
     "metadata": {},
     "output_type": "execute_result"
    }
   ],
   "source": [
    "my_set"
   ]
  },
  {
   "cell_type": "markdown",
   "id": "1e036016-3683-49ab-bc36-695cbe021862",
   "metadata": {},
   "source": [
    "Que4. How do you remove elements from a set in Python?"
   ]
  },
  {
   "cell_type": "code",
   "execution_count": 11,
   "id": "e3419e45-5b3a-400a-a3b5-4fe305d31995",
   "metadata": {},
   "outputs": [],
   "source": [
    "my_set = {1, 2, 3, 4, 5}"
   ]
  },
  {
   "cell_type": "code",
   "execution_count": 12,
   "id": "fabb85b8-4d8e-4e6f-8325-3a9f19b1939a",
   "metadata": {},
   "outputs": [
    {
     "data": {
      "text/plain": [
       "{1, 2, 3, 4, 5}"
      ]
     },
     "execution_count": 12,
     "metadata": {},
     "output_type": "execute_result"
    }
   ],
   "source": [
    "my_set"
   ]
  },
  {
   "cell_type": "code",
   "execution_count": 13,
   "id": "d7956fe0-a682-4c9e-bd4e-1548b2ff9ae7",
   "metadata": {},
   "outputs": [],
   "source": [
    "my_set.remove(5)"
   ]
  },
  {
   "cell_type": "code",
   "execution_count": 14,
   "id": "91099ffd-8e0c-4e09-88fa-49cc8986d763",
   "metadata": {},
   "outputs": [
    {
     "data": {
      "text/plain": [
       "{1, 2, 3, 4}"
      ]
     },
     "execution_count": 14,
     "metadata": {},
     "output_type": "execute_result"
    }
   ],
   "source": [
    "my_set"
   ]
  },
  {
   "cell_type": "markdown",
   "id": "3ff65169-1971-45e8-9016-303e9a7b0938",
   "metadata": {},
   "source": [
    "Que.5 How do you get the length of a set in Python?"
   ]
  },
  {
   "cell_type": "code",
   "execution_count": 15,
   "id": "aab2342d-b628-4c2f-a0c7-0a055be71b52",
   "metadata": {},
   "outputs": [],
   "source": [
    "my_set = {1, 2, 3, 4, 5}"
   ]
  },
  {
   "cell_type": "code",
   "execution_count": 16,
   "id": "f665a283-c3d8-4082-a9c8-ce228c444537",
   "metadata": {},
   "outputs": [
    {
     "data": {
      "text/plain": [
       "{1, 2, 3, 4, 5}"
      ]
     },
     "execution_count": 16,
     "metadata": {},
     "output_type": "execute_result"
    }
   ],
   "source": [
    "my_set"
   ]
  },
  {
   "cell_type": "code",
   "execution_count": 17,
   "id": "21f3fb17-ea38-4e5e-b414-00ac8cca07cc",
   "metadata": {},
   "outputs": [
    {
     "data": {
      "text/plain": [
       "5"
      ]
     },
     "execution_count": 17,
     "metadata": {},
     "output_type": "execute_result"
    }
   ],
   "source": [
    "len(my_set)"
   ]
  },
  {
   "cell_type": "code",
   "execution_count": null,
   "id": "8dab50ca-b7eb-486a-b970-a47e434ae52c",
   "metadata": {},
   "outputs": [],
   "source": []
  }
 ],
 "metadata": {
  "kernelspec": {
   "display_name": "Python 3 (ipykernel)",
   "language": "python",
   "name": "python3"
  },
  "language_info": {
   "codemirror_mode": {
    "name": "ipython",
    "version": 3
   },
   "file_extension": ".py",
   "mimetype": "text/x-python",
   "name": "python",
   "nbconvert_exporter": "python",
   "pygments_lexer": "ipython3",
   "version": "3.10.8"
  }
 },
 "nbformat": 4,
 "nbformat_minor": 5
}
