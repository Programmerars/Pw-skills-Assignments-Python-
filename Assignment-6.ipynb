{
 "cells": [
  {
   "cell_type": "markdown",
   "id": "4bb405b1-330f-449e-a2a0-d77efece3666",
   "metadata": {},
   "source": [
    "Que1. What is a tuple in Python?"
   ]
  },
  {
   "cell_type": "markdown",
   "id": "25aae82e-1b27-4859-a73d-08f9e6001383",
   "metadata": {},
   "source": [
    "In Python, a tuple is an immutable, ordered collection of elements, enclosed in parentheses (()) or created without any enclosing brackets, where elements are separated by commas. Tuples are similar to lists in Python, but unlike lists, tuples cannot be modified once they are created. This means that once a tuple is defined, its elements cannot be added, removed, or changed.\n",
    "\n",
    "Tuples are commonly used in Python for representing fixed collections of related data where the order of elements matters, and where immutability is desired. Tuples can contain elements of different data types, such as numbers, strings, and other objects. Tuples can be accessed and sliced using indexing and slicing, just like lists."
   ]
  },
  {
   "cell_type": "markdown",
   "id": "6a57788c-0887-440a-91d6-0007686756d4",
   "metadata": {},
   "source": [
    "Que2. How do you create a tuple in Python?"
   ]
  },
  {
   "cell_type": "code",
   "execution_count": 9,
   "id": "7e91788e-dc38-44fe-afe0-8b799dfc6bed",
   "metadata": {},
   "outputs": [],
   "source": [
    "#You cam create tuple in python \n",
    "\n",
    "l1=(1,6,2,9,3,5,0,19)"
   ]
  },
  {
   "cell_type": "code",
   "execution_count": 10,
   "id": "0f6d08b9-b3e9-4f7a-a8d6-1a42d979235e",
   "metadata": {},
   "outputs": [
    {
     "data": {
      "text/plain": [
       "(1, 6, 2, 9, 3, 5, 0, 19)"
      ]
     },
     "execution_count": 10,
     "metadata": {},
     "output_type": "execute_result"
    }
   ],
   "source": [
    "l1"
   ]
  },
  {
   "cell_type": "markdown",
   "id": "9b6334eb-35f1-4d11-a2bd-1a815e9be2b4",
   "metadata": {},
   "source": [
    "Que3. What is the difference between a tuple and a list in Python?"
   ]
  },
  {
   "cell_type": "markdown",
   "id": "44a512ea-4840-4e9a-aa62-6aeb84699bb4",
   "metadata": {},
   "source": [
    "In Python, both tuples and lists are used to store collections of data, but they have several key differences:\n",
    "\n",
    "Mutability: One of the main differences between tuples and lists is their mutability. Tuples are immutable, which means that once a tuple is created, its elements cannot be modified, added, or removed. Lists, on the other hand, are mutable, which means that their elements can be modified, added, or removed after they are created.\n",
    "\n",
    "Syntax: Tuples are defined using parentheses (()) or created without any enclosing brackets, with elements separated by commas. Lists are defined using square brackets ([]) with elements separated by commas."
   ]
  },
  {
   "cell_type": "markdown",
   "id": "4ee5866a-899d-4a90-b084-8b1f905e4f6f",
   "metadata": {},
   "source": [
    "Que4. Can a tuple be changed in Python?"
   ]
  },
  {
   "cell_type": "markdown",
   "id": "b789a9a5-ffa8-4dc0-a20e-4981a486039e",
   "metadata": {},
   "source": [
    "Ans:- \n",
    "\n",
    "No, a tuple cannot be changed once it is created in Python. Tuples are immutable, which means that their elements cannot be modified, added, or removed after they are defined. Once a tuple is created, it remains fixed and cannot be changed."
   ]
  },
  {
   "cell_type": "markdown",
   "id": "5c6dbe5c-97c2-47cb-bc0b-5d5da0f7b481",
   "metadata": {},
   "source": [
    "Que5. How do you access elements in a tuple?"
   ]
  },
  {
   "cell_type": "markdown",
   "id": "4586cda8-0a63-4b91-b35a-e0894a608d72",
   "metadata": {},
   "source": [
    "Ans:- \n",
    "\n",
    "In Python, elements in a tuple can be accessed using indexing or slicing. Here's how you can do it:\n",
    "\n",
    "Indexing: You can access individual elements in a tuple using their index, which starts from 0 for the first element, 1 for the second element, and so on. You can use square brackets ([]) followed by the index to access the element at that particular index.\n",
    "my_tuple = (10, 20, 30, 40, 50)\n",
    "print(my_tuple[0])  # Output: 10\n",
    "print(my_tuple[3])  # Output: 40\n",
    "\n",
    "Slicing: You can also access a range of elements in a tuple using slicing. Slicing allows you to extract a portion of the tuple by specifying a start index (inclusive) and an end index (exclusive), separated by a colon (:), within the square brackets.\n",
    "\n",
    "my_tuple = (10, 20, 30, 40, 50)\n",
    "print(my_tuple[1:4])  # Output: (20, 30, 40)"
   ]
  },
  {
   "cell_type": "markdown",
   "id": "99e2fd30-9bda-46cf-86e0-6bebbb993986",
   "metadata": {},
   "source": [
    "Que6. How do you unpack a tuple in Python?"
   ]
  },
  {
   "cell_type": "markdown",
   "id": "92892d0a-b920-4f9a-80a5-37d371735e93",
   "metadata": {},
   "source": [
    "Ans:- \n",
    "\n",
    "Unpacking a tuple in Python refers to assigning the individual elements of a tuple to separate variables. You can do this using multiple ways, including:\n",
    "\n",
    "Multiple assignment: You can use multiple variables on the left-hand side of an assignment statement to unpack the elements of a tuple.\n",
    "\n",
    "my_tuple = (10, 20, 30)\n",
    "a, b, c = my_tuple\n",
    "print(a)  # Output: 10\n",
    "print(b)  # Output: 20\n",
    "print(c)  # Output: 30\n",
    "\n",
    "Asterisk (*) operator: You can use the asterisk (*) operator to unpack the remaining elements of a tuple into a single variable. This is useful when you have a tuple with a varying number of elements.\n",
    "\n",
    "my_tuple = (10, 20, 30, 40, 50)\n",
    "a, b, *rest = my_tuple\n",
    "print(a)    # Output: 10\n",
    "print(b)    # Output: 20\n",
    "print(rest) # Output: [30, 40, 50]\n",
    "In the example above, a and b are assigned the first two elements of the tuple, and the remaining elements are unpacked into the list rest using the * operator.\n",
    "\n",
    "Indexing: You can also access individual elements of a tuple by index and assign them to variables, but this method is less flexible compared to the previous two methods.\n",
    "\n",
    "my_tuple = (10, 20, 30)\n",
    "a = my_tuple[0]\n",
    "b = my_tuple[1]\n",
    "c = my_tuple[2]\n",
    "print(a)  # Output: 10\n",
    "print(b)  # Output: 20\n",
    "print(c)  # Output: 30"
   ]
  },
  {
   "cell_type": "code",
   "execution_count": null,
   "id": "36a8f1cc-adec-4a36-ab6f-53077aedea7c",
   "metadata": {},
   "outputs": [],
   "source": []
  }
 ],
 "metadata": {
  "kernelspec": {
   "display_name": "Python 3 (ipykernel)",
   "language": "python",
   "name": "python3"
  },
  "language_info": {
   "codemirror_mode": {
    "name": "ipython",
    "version": 3
   },
   "file_extension": ".py",
   "mimetype": "text/x-python",
   "name": "python",
   "nbconvert_exporter": "python",
   "pygments_lexer": "ipython3",
   "version": "3.10.8"
  }
 },
 "nbformat": 4,
 "nbformat_minor": 5
}
