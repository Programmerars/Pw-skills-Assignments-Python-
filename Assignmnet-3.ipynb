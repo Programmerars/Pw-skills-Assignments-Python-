{
 "cells": [
  {
   "cell_type": "markdown",
   "id": "3c946f0d-ad6b-4adb-a9c0-d7e2744bdf8b",
   "metadata": {},
   "source": [
    "Q1.How can we store a s1ngle quote (‘) as a str1ng 1n a var1able?"
   ]
  },
  {
   "cell_type": "markdown",
   "id": "afd55e68-4d90-42d6-9e69-166214414eec",
   "metadata": {},
   "source": [
    "Ans:- \n",
    "\n",
    "To store a single quote (') as a string in a variable in Python, you can use one of the following methods:\n",
    "\n",
    "Use double quotes (\") to define the string and enclose the single quote within the double quotes:\n",
    "\n",
    "my_variable = \"This is a string containing a single quote ('), using double quotes\"\n",
    "\n",
    "Use escape character (\\) before the single quote to indicate that it is part of the string:\n",
    "\n",
    "my_variable = 'This is a string containing a single quote (\\'), using single quotes'\n",
    "\n",
    "Use triple quotes (\"\"\" or ''') to define the string, which allows for multiline strings and also avoids the need to escape the single quote:\n",
    "\n",
    "my_variable = \"\"\"This is a string containing a single quote ('), using triple quotes\"\"\"\n",
    "\n",
    "Any of the above methods will allow you to store a single quote as a string in a variable in Python without encountering any syntax errors."
   ]
  },
  {
   "cell_type": "markdown",
   "id": "ea537799-29a8-4ed8-9be0-d6f71f3f6209",
   "metadata": {},
   "source": [
    "Q2. Refer the below var1able:\n",
    "x = ‘a'\n",
    "Here, is x a character type or str1ng type var1able? Support your answer w1th an explanat1on."
   ]
  },
  {
   "cell_type": "markdown",
   "id": "d85ed431-2d66-4451-964b-bb61db511e04",
   "metadata": {},
   "source": [
    "Ans:- \n",
    "\n",
    "In Python, the variable x in the given example x = 'a' would be considered as a string type variable, not a character type variable.\n",
    "\n",
    "In Python, a single character is represented as a string of length 1. Therefore, when you assign a single character, such as 'a', to a variable, like x, it is treated as a string with a length of 1.\n",
    "\n",
    "To distinguish between a character and a string, a character type does not exist as a separate data type in Python. Instead, a character is simply represented as a string containing a single character.\n",
    "\n",
    "So, in the given example, x would be considered as a string type variable because it contains a single character 'a', which is represented as a string with a length of 1."
   ]
  },
  {
   "cell_type": "markdown",
   "id": "d02e2d46-6ce6-4400-8183-a73b5159b14d",
   "metadata": {},
   "source": [
    "Q3. Apply the follow1ng functions on th1s variable: 'Welcome to Python foundation course'\n",
    "1. find()\n",
    "2. count()\n",
    "3. len()\n",
    "4.Concatenation()"
   ]
  },
  {
   "cell_type": "code",
   "execution_count": 1,
   "id": "14c30690-c1ee-4259-9cbb-4f0dbc324314",
   "metadata": {},
   "outputs": [],
   "source": [
    "str='Welcome to Python foundation course'\n",
    "\n"
   ]
  },
  {
   "cell_type": "code",
   "execution_count": 3,
   "id": "c765107d-4f38-43aa-8083-8e6dcba8c7c3",
   "metadata": {},
   "outputs": [
    {
     "data": {
      "text/plain": [
       "0"
      ]
     },
     "execution_count": 3,
     "metadata": {},
     "output_type": "execute_result"
    }
   ],
   "source": [
    "str.find('Wel')"
   ]
  },
  {
   "cell_type": "code",
   "execution_count": 5,
   "id": "5afe7f06-6c81-4deb-a2ed-2f88146b6e03",
   "metadata": {},
   "outputs": [
    {
     "data": {
      "text/plain": [
       "3"
      ]
     },
     "execution_count": 5,
     "metadata": {},
     "output_type": "execute_result"
    }
   ],
   "source": [
    "str.count('e')"
   ]
  },
  {
   "cell_type": "code",
   "execution_count": 8,
   "id": "fdb76601-6a6f-4bac-bc48-4b697cb843ec",
   "metadata": {},
   "outputs": [],
   "source": [
    "length=len(str)"
   ]
  },
  {
   "cell_type": "code",
   "execution_count": 9,
   "id": "eb2f0802-63c8-4c9f-a660-eaacf9e4079c",
   "metadata": {},
   "outputs": [
    {
     "data": {
      "text/plain": [
       "35"
      ]
     },
     "execution_count": 9,
     "metadata": {},
     "output_type": "execute_result"
    }
   ],
   "source": [
    "length"
   ]
  },
  {
   "cell_type": "code",
   "execution_count": 10,
   "id": "3979042b-2453-4d57-844f-b8282fca0b30",
   "metadata": {},
   "outputs": [
    {
     "data": {
      "text/plain": [
       "35"
      ]
     },
     "execution_count": 10,
     "metadata": {},
     "output_type": "execute_result"
    }
   ],
   "source": [
    "len(str)"
   ]
  },
  {
   "cell_type": "code",
   "execution_count": 11,
   "id": "9809428d-25ce-4d67-ae8c-a83ad5a07787",
   "metadata": {},
   "outputs": [
    {
     "name": "stdout",
     "output_type": "stream",
     "text": [
      "Welcome to Python foundation course Welcome to the world of Python!\n"
     ]
    }
   ],
   "source": [
    "additional_text = ' Welcome to the world of Python!'\n",
    "concatenated_string = str + additional_text\n",
    "print(concatenated_string)\n"
   ]
  },
  {
   "cell_type": "markdown",
   "id": "b0655509-ae14-48da-a3bf-b4dc12685954",
   "metadata": {},
   "source": [
    "Q4. For the variable: word = ‘PanaJi@12256'\n",
    "Calculate the following:\n",
    "(a) Total number of alphabets in lowercase\n",
    "(b) Total number of alphabets in uppercase\n",
    "(c) Total number of numerical in string"
   ]
  },
  {
   "cell_type": "code",
   "execution_count": 12,
   "id": "dab2fe6b-6a81-4467-97cf-06695927f40b",
   "metadata": {},
   "outputs": [
    {
     "name": "stdout",
     "output_type": "stream",
     "text": [
      "(a) Total number of alphabets in lowercase:  4\n",
      "(b) Total number of alphabets in uppercase:  2\n",
      "(c) Total number of numerical in string:  5\n"
     ]
    }
   ],
   "source": [
    "word = 'PanaJi@12256'\n",
    "\n",
    "# (a) Total number of alphabets in lowercase\n",
    "lowercase_count = sum(1 for c in word if c.islower())\n",
    "print(\"(a) Total number of alphabets in lowercase: \", lowercase_count)\n",
    "\n",
    "# (b) Total number of alphabets in uppercase\n",
    "uppercase_count = sum(1 for c in word if c.isupper())\n",
    "print(\"(b) Total number of alphabets in uppercase: \", uppercase_count)\n",
    "\n",
    "# (c) Total number of numerical in string\n",
    "numeric_count = sum(1 for c in word if c.isdigit())\n",
    "print(\"(c) Total number of numerical in string: \", numeric_count)\n",
    "\n"
   ]
  },
  {
   "cell_type": "markdown",
   "id": "afbcb969-010e-4e41-93c4-00ee2c25821f",
   "metadata": {},
   "source": [
    "Q5. Write a code to store a numerical value inside a variable then convert it into string."
   ]
  },
  {
   "cell_type": "code",
   "execution_count": 17,
   "id": "e24fbb01-29cd-4fcb-8fe2-923c09c91cf2",
   "metadata": {},
   "outputs": [
    {
     "name": "stdout",
     "output_type": "stream",
     "text": [
      "Type of variable before conversion :  <class 'int'>\n",
      "Type after conversion :  <class 'str'>\n"
     ]
    }
   ],
   "source": [
    "num = 10\n",
    "\n",
    "# check and print type of num variable\n",
    "print(\"Type of variable before conversion : \", type(num))\n",
    "\n",
    "# convert the num into string and print\n",
    "converted_num = \"% s\" % num\n",
    "print(\"Type after conversion : \", type(converted_num))\n"
   ]
  },
  {
   "cell_type": "code",
   "execution_count": null,
   "id": "45f34169-f100-4fb6-82d4-8a3ea15d88b4",
   "metadata": {},
   "outputs": [],
   "source": []
  }
 ],
 "metadata": {
  "kernelspec": {
   "display_name": "Python 3 (ipykernel)",
   "language": "python",
   "name": "python3"
  },
  "language_info": {
   "codemirror_mode": {
    "name": "ipython",
    "version": 3
   },
   "file_extension": ".py",
   "mimetype": "text/x-python",
   "name": "python",
   "nbconvert_exporter": "python",
   "pygments_lexer": "ipython3",
   "version": "3.10.8"
  }
 },
 "nbformat": 4,
 "nbformat_minor": 5
}
